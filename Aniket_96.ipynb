{
  "nbformat": 4,
  "nbformat_minor": 0,
  "metadata": {
    "colab": {
      "provenance": []
    },
    "kernelspec": {
      "name": "python3",
      "display_name": "Python 3"
    },
    "language_info": {
      "name": "python"
    }
  },
  "cells": [
    {
      "cell_type": "code",
      "source": [
        "print(100/3)"
      ],
      "metadata": {
        "colab": {
          "base_uri": "https://localhost:8080/"
        },
        "id": "XddkfWHeVgfi",
        "outputId": "37e2f3e7-d6fb-4254-ac2a-e2a019b9c2e3"
      },
      "execution_count": 12,
      "outputs": [
        {
          "output_type": "stream",
          "name": "stdout",
          "text": [
            "33.333333333333336\n"
          ]
        }
      ]
    },
    {
      "cell_type": "code",
      "source": [
        "print(\"Hello \" + \"world\")"
      ],
      "metadata": {
        "colab": {
          "base_uri": "https://localhost:8080/"
        },
        "id": "uXpQP-NqXztp",
        "outputId": "14256c48-f4e4-45c3-f102-8fad9efcba9b"
      },
      "execution_count": 27,
      "outputs": [
        {
          "output_type": "stream",
          "name": "stdout",
          "text": [
            "Hello world\n"
          ]
        }
      ]
    },
    {
      "cell_type": "code",
      "source": [
        "name=\"ajit\"\n",
        "print(name)"
      ],
      "metadata": {
        "colab": {
          "base_uri": "https://localhost:8080/"
        },
        "id": "h_KH-o5eZ3Dg",
        "outputId": "28ff4a9c-7842-42c3-8693-cc92321d9998"
      },
      "execution_count": 32,
      "outputs": [
        {
          "output_type": "stream",
          "name": "stdout",
          "text": [
            "ajit\n"
          ]
        }
      ]
    },
    {
      "cell_type": "code",
      "source": [
        "_N_A_M_E=\"Computer\"\n",
        "print(_N_A_M_E)"
      ],
      "metadata": {
        "colab": {
          "base_uri": "https://localhost:8080/"
        },
        "id": "8lh-REMmTdJp",
        "outputId": "2ee4fc47-cdf7-4e10-8bd3-9fb3f3773d8a"
      },
      "execution_count": 38,
      "outputs": [
        {
          "output_type": "stream",
          "name": "stdout",
          "text": [
            "Computer\n"
          ]
        }
      ]
    },
    {
      "cell_type": "code",
      "source": [],
      "metadata": {
        "id": "ks9JBBN5XNUW"
      },
      "execution_count": null,
      "outputs": []
    },
    {
      "cell_type": "code",
      "source": [
        "age=25\n",
        "age=25\n",
        "print(age)"
      ],
      "metadata": {
        "colab": {
          "base_uri": "https://localhost:8080/"
        },
        "id": "SB0nXQZXT_h3",
        "outputId": "43bc4431-ae68-4b8f-936f-7e78fcbda377"
      },
      "execution_count": 47,
      "outputs": [
        {
          "output_type": "stream",
          "name": "stdout",
          "text": [
            "25\n"
          ]
        }
      ]
    },
    {
      "cell_type": "code",
      "source": [
        "y= 3.24\n",
        "print(y)"
      ],
      "metadata": {
        "colab": {
          "base_uri": "https://localhost:8080/"
        },
        "id": "84hrDqWIUkse",
        "outputId": "fbdd14b3-a8e8-48a2-e9d8-aa3f00a669b5"
      },
      "execution_count": 57,
      "outputs": [
        {
          "output_type": "stream",
          "name": "stdout",
          "text": [
            "3.24\n"
          ]
        }
      ]
    },
    {
      "cell_type": "code",
      "source": [
        "yes = True\n",
        "print(yes)"
      ],
      "metadata": {
        "colab": {
          "base_uri": "https://localhost:8080/"
        },
        "id": "A5AZNUiaUzBW",
        "outputId": "b8b84ff4-a115-4789-ab74-b0665582f734"
      },
      "execution_count": 58,
      "outputs": [
        {
          "output_type": "stream",
          "name": "stdout",
          "text": [
            "True\n"
          ]
        }
      ]
    },
    {
      "cell_type": "code",
      "source": [
        "KCNaSMe = 121\n",
        "print(NaSMe)"
      ],
      "metadata": {
        "colab": {
          "base_uri": "https://localhost:8080/"
        },
        "id": "dfWQYUmlVAFG",
        "outputId": "a1397621-bc66-426d-bc06-93d2bf6df6b7"
      },
      "execution_count": 59,
      "outputs": [
        {
          "output_type": "stream",
          "name": "stdout",
          "text": [
            "121\n"
          ]
        }
      ]
    },
    {
      "cell_type": "code",
      "source": [
        "first = \"My name is Aniket\"\n",
        "second = \"im studying in BKC college\"\n",
        "print(first,second)"
      ],
      "metadata": {
        "colab": {
          "base_uri": "https://localhost:8080/"
        },
        "id": "N37QUMeGYWz0",
        "outputId": "4862e1f3-a377-4adb-978f-f98dfe991e69"
      },
      "execution_count": 85,
      "outputs": [
        {
          "output_type": "stream",
          "name": "stdout",
          "text": [
            "My name is Aniket im studying in BKC college\n"
          ]
        }
      ]
    },
    {
      "cell_type": "code",
      "source": [
        "# I have completed puc in B k Pu College in the year of 2023, i got percentage is 85.00\n",
        "Name = \"B K college\"\n",
        "per = 85.00\n",
        "Year = 2023\n",
        "print(\"I have completed puc in \",Name,\"in the yrar\",Year,\"i got percentage is\",per)"
      ],
      "metadata": {
        "colab": {
          "base_uri": "https://localhost:8080/"
        },
        "id": "NjIqzIRDZe9-",
        "outputId": "20f69269-8fed-482c-cbe7-8eb4efbfbb48"
      },
      "execution_count": 100,
      "outputs": [
        {
          "output_type": "stream",
          "name": "stdout",
          "text": [
            "I have completed puc in  B K college in the yrar 2023 i got percentage is 85.0\n"
          ]
        }
      ]
    },
    {
      "cell_type": "code",
      "source": [
        "# Hello Good Evening, How are you, i'm fine, where are you from i'm from chikkodi, so nice\n",
        "\n",
        "text = \"Good Evening\"\n",
        "address = \"I'm from chikkodi\"\n",
        "print(\"Hello\",text,\"where are you from\",address)"
      ],
      "metadata": {
        "colab": {
          "base_uri": "https://localhost:8080/"
        },
        "id": "ONnSnrRfeJ0h",
        "outputId": "187999e2-eb81-4ccf-81c8-fd63ab662ea6"
      },
      "execution_count": 103,
      "outputs": [
        {
          "output_type": "stream",
          "name": "stdout",
          "text": [
            "Hello Good Evening where are you from I'm from chikkodi\n"
          ]
        }
      ]
    }
  ]
}