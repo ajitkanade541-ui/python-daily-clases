{
  "nbformat": 4,
  "nbformat_minor": 0,
  "metadata": {
    "colab": {
      "provenance": []
    },
    "kernelspec": {
      "name": "python3",
      "display_name": "Python 3"
    },
    "language_info": {
      "name": "python"
    }
  },
  "cells": [
    {
      "cell_type": "code",
      "execution_count": 4,
      "metadata": {
        "colab": {
          "base_uri": "https://localhost:8080/"
        },
        "id": "zuyIuXPAUF2l",
        "outputId": "c5dc0df9-9a77-4549-d966-d322f8b94216"
      },
      "outputs": [
        {
          "output_type": "stream",
          "name": "stdout",
          "text": [
            "8\n",
            "40\n"
          ]
        }
      ],
      "source": [
        "X = 10\n",
        "X -= 2\n",
        "print(X)\n",
        "X *= 5\n",
        "print(X)"
      ]
    },
    {
      "cell_type": "code",
      "source": [
        "X=10\n",
        "X-=2\n",
        "print(X)\n",
        "X*=5\n",
        "print(X)\n",
        "X//=3\n",
        "print(X)\n",
        "X**=2\n",
        "print(X)\n",
        "X%=4\n",
        "print(X)\n",
        "X+=9\n",
        "print(X)\n",
        "X/=3\n",
        "print(X)"
      ],
      "metadata": {
        "colab": {
          "base_uri": "https://localhost:8080/"
        },
        "id": "sm19G3pJU1Wj",
        "outputId": "914f84d3-eb58-4a3f-d46e-9730027d5395"
      },
      "execution_count": 29,
      "outputs": [
        {
          "output_type": "stream",
          "name": "stdout",
          "text": [
            "8\n",
            "40\n",
            "13\n",
            "169\n",
            "1\n",
            "10\n",
            "3.3333333333333335\n"
          ]
        }
      ]
    },
    {
      "cell_type": "markdown",
      "source": [],
      "metadata": {
        "id": "QQBcl6RTs1hf"
      }
    },
    {
      "cell_type": "code",
      "source": [
        "Num = 9\n",
        "if Num < 10 :\n",
        "  print(\"10 is a greater than 9\")"
      ],
      "metadata": {
        "colab": {
          "base_uri": "https://localhost:8080/"
        },
        "id": "cyNtozC1VT1d",
        "outputId": "a44ecde9-4be2-4132-b3c8-4b6c7bae7eba"
      },
      "execution_count": 34,
      "outputs": [
        {
          "output_type": "stream",
          "name": "stdout",
          "text": [
            "10 is a greater than 9\n"
          ]
        }
      ]
    },
    {
      "cell_type": "code",
      "source": [
        "User_id = \"20MCA103\"\n",
        "Password = 1234\n",
        "if User_id == \"20MCA103\" and Password == 1234:\n",
        "  print(\"Login Successfully\")\n"
      ],
      "metadata": {
        "colab": {
          "base_uri": "https://localhost:8080/"
        },
        "id": "DyJi6xTfuyM-",
        "outputId": "3406d7af-ca62-48a6-d62f-2051b9ab8c1c"
      },
      "execution_count": 39,
      "outputs": [
        {
          "output_type": "stream",
          "name": "stdout",
          "text": [
            "Login Successfully\n"
          ]
        }
      ]
    },
    {
      "cell_type": "code",
      "source": [
        "Ex = 59\n",
        "if Ex == 58 :\n",
        "  print(\"Are you understand\")"
      ],
      "metadata": {
        "id": "N___BYilvpB-"
      },
      "execution_count": 76,
      "outputs": []
    },
    {
      "cell_type": "code",
      "source": [
        "Name = \"aniket\"\n",
        "if Name <= \"BKC\" :\n",
        "  print(\"My name is aniket\")"
      ],
      "metadata": {
        "id": "imnK0nATwYbW"
      },
      "execution_count": 77,
      "outputs": []
    },
    {
      "cell_type": "code",
      "source": [
        "Num 0= int(input(\"Enter a number value:\"))\n",
        "if Num > 0 :\n",
        "  print(\"Positive Number\")\n",
        "else :\n",
        "  print(\"Negative Number\")"
      ],
      "metadata": {
        "colab": {
          "base_uri": "https://localhost:8080/"
        },
        "id": "E5_qLTZ8w2we",
        "outputId": "b72082d9-eb40-4765-ab99-c248d673abd5"
      },
      "execution_count": 80,
      "outputs": [
        {
          "output_type": "stream",
          "name": "stdout",
          "text": [
            "Enter a number value:-7\n",
            "Negative Number\n"
          ]
        }
      ]
    },
    {
      "cell_type": "code",
      "source": [
        "Num = int(input(\"Enter a number value\"))\n",
        "if Num % 4 == 0 :\n",
        "  print(\"Even number\")\n",
        "else :\n",
        "  print(\"non leap number\")\n"
      ],
      "metadata": {
        "colab": {
          "base_uri": "https://localhost:8080/"
        },
        "id": "Y_Qou87n0TWI",
        "outputId": "15138b88-1915-483b-b71f-9a76deb37d7a"
      },
      "execution_count": 90,
      "outputs": [
        {
          "output_type": "stream",
          "name": "stdout",
          "text": [
            "Enter a number value2026\n",
            "non leap number\n"
          ]
        }
      ]
    },
    {
      "cell_type": "code",
      "source": [
        "age = int(input(\"Enter value of age :\"))\n",
        "if age> 19:\n",
        "  print(\"Eligible\")\n",
        "else :\n",
        "  print(\"Non eligible\")"
      ],
      "metadata": {
        "colab": {
          "base_uri": "https://localhost:8080/"
        },
        "id": "iEnqOwbj3zP4",
        "outputId": "3a8c9188-681c-4562-a67b-0b3611138936"
      },
      "execution_count": 98,
      "outputs": [
        {
          "output_type": "stream",
          "name": "stdout",
          "text": [
            "Enter value of age :19\n",
            "Non eligible\n"
          ]
        }
      ]
    },
    {
      "cell_type": "code",
      "source": [
        "\n",
        "Password=int(input(\"Enter value of a Password:\"))\n",
        "if Password==1234:\n",
        "    print(\"Login successfull\")\n",
        "else:\n",
        "    print(\"Login Failed\")\n"
      ],
      "metadata": {
        "colab": {
          "base_uri": "https://localhost:8080/"
        },
        "id": "zBySHhs64inC",
        "outputId": "536542a6-af2d-423a-9c06-a9dbd4de8fd0"
      },
      "execution_count": 112,
      "outputs": [
        {
          "output_type": "stream",
          "name": "stdout",
          "text": [
            "Enter value of a Password:2001\n",
            "Login Failed\n"
          ]
        }
      ]
    },
    {
      "cell_type": "code",
      "source": [
        "\n",
        "marks = int(input(\"Enter a number value\"))\n",
        "if marks >85:\n",
        "     print(\"Distiction\")\n",
        "elif marks >= 70 :\n",
        "     print(\"first class\")\n",
        "elif marks>=55 :\n",
        "     print(\"second class\")\n",
        "elif marks >=35 :\n",
        "     print(\"just pass\")\n",
        "else:\n",
        "     print(\"Fail better luck next chance\")"
      ],
      "metadata": {
        "colab": {
          "base_uri": "https://localhost:8080/"
        },
        "id": "b3XeK2gl97OF",
        "outputId": "25465f22-9a5e-4709-947f-cdeb3d7520f3"
      },
      "execution_count": 143,
      "outputs": [
        {
          "output_type": "stream",
          "name": "stdout",
          "text": [
            "Enter a number value70\n",
            "first class\n"
          ]
        }
      ]
    },
    {
      "cell_type": "code",
      "source": [
        "prize = input(\"Enter prize medal\")\n",
        "if prize == \"Gold\" :\n",
        "   print(\"First Prize\")\n",
        "elif prize == \"silver\" :\n",
        "   print(\"Second prize\")\n",
        "elif prize == \"bronze\" :\n",
        "   print(\"Third prize\")\n",
        "elif prize == \"certificate\" :\n",
        "    print(\"Samadanakar bahuman\")\n",
        "else:\n",
        "    print(\"Better luck next chance\")\n",
        ""
      ],
      "metadata": {
        "colab": {
          "base_uri": "https://localhost:8080/"
        },
        "id": "s3lQO0bpDzFl",
        "outputId": "6e50b69d-6cb4-4597-911f-f20fbb4759de"
      },
      "execution_count": 149,
      "outputs": [
        {
          "output_type": "stream",
          "name": "stdout",
          "text": [
            "Enter prize medalFirst prizer\n",
            "Better luck next chance\n"
          ]
        }
      ]
    },
    {
      "cell_type": "code",
      "source": [
        "SIGNAL= input(\"Enter a signal\")\n",
        "if SIGNAL==\"Red\":\n",
        "    print(\"Stop\")\n",
        "elif SIGNAL==\"Yellow\":\n",
        "    print(\"Get Ready\")\n",
        "elif SIGNAL==\"Green\":\n",
        "    print(\"Go\")\n",
        "else:\n",
        "    print(\"Invalid Signal\")"
      ],
      "metadata": {
        "colab": {
          "base_uri": "https://localhost:8080/"
        },
        "id": "Tei2zeSEGjqG",
        "outputId": "548fa345-04f7-4f51-fcf5-ad4cf5f84b4c"
      },
      "execution_count": 150,
      "outputs": [
        {
          "output_type": "stream",
          "name": "stdout",
          "text": [
            "Enter a signalYellow\n",
            "Get Ready\n"
          ]
        }
      ]
    }
  ]
}